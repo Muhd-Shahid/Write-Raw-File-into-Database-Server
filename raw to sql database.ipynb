{
 "cells": [
  {
   "cell_type": "markdown",
   "metadata": {},
   "source": [
    "# How to import a CSV file into a MySQL database using python script?\n",
    "#### Using iris data, you will learn how to import a CSV file into a MySQL database using python script.\n",
    "==================================================================================================================="
   ]
  },
  {
   "cell_type": "markdown",
   "metadata": {},
   "source": [
    "## Prerequisites"
   ]
  },
  {
   "cell_type": "markdown",
   "metadata": {},
   "source": [
    "Python 3.8.3, MySQL 8.0.17, mysql-connector-python"
   ]
  },
  {
   "cell_type": "markdown",
   "metadata": {},
   "source": [
    "To perform this task, you will need to:\n",
    "#### 1. Prepare or identify your data\n",
    "#### 2. Connect to MySQL and create a database\n",
    "#### 3. Create a table\n",
    "#### 4. Load the data"
   ]
  },
  {
   "cell_type": "markdown",
   "metadata": {},
   "source": [
    "### Step 1: Prepare or identify your data"
   ]
  },
  {
   "cell_type": "markdown",
   "metadata": {},
   "source": [
    "To begin, prepare or identify the CSV file that you'd like to import to MySQL database. For example, I loaded a iris data from sklearn.datasets."
   ]
  },
  {
   "cell_type": "code",
   "execution_count": 4,
   "metadata": {},
   "outputs": [
    {
     "data": {
      "text/html": [
       "<div>\n",
       "<style scoped>\n",
       "    .dataframe tbody tr th:only-of-type {\n",
       "        vertical-align: middle;\n",
       "    }\n",
       "\n",
       "    .dataframe tbody tr th {\n",
       "        vertical-align: top;\n",
       "    }\n",
       "\n",
       "    .dataframe thead th {\n",
       "        text-align: right;\n",
       "    }\n",
       "</style>\n",
       "<table border=\"1\" class=\"dataframe\">\n",
       "  <thead>\n",
       "    <tr style=\"text-align: right;\">\n",
       "      <th></th>\n",
       "      <th>sepalLengthcm</th>\n",
       "      <th>sepalWidthcm</th>\n",
       "      <th>petalLengthcm</th>\n",
       "      <th>petalWidthcm</th>\n",
       "      <th>species</th>\n",
       "    </tr>\n",
       "  </thead>\n",
       "  <tbody>\n",
       "    <tr>\n",
       "      <th>0</th>\n",
       "      <td>5.1</td>\n",
       "      <td>3.5</td>\n",
       "      <td>1.4</td>\n",
       "      <td>0.2</td>\n",
       "      <td>setosa</td>\n",
       "    </tr>\n",
       "    <tr>\n",
       "      <th>1</th>\n",
       "      <td>4.9</td>\n",
       "      <td>3.0</td>\n",
       "      <td>1.4</td>\n",
       "      <td>0.2</td>\n",
       "      <td>setosa</td>\n",
       "    </tr>\n",
       "    <tr>\n",
       "      <th>2</th>\n",
       "      <td>4.7</td>\n",
       "      <td>3.2</td>\n",
       "      <td>1.3</td>\n",
       "      <td>0.2</td>\n",
       "      <td>setosa</td>\n",
       "    </tr>\n",
       "    <tr>\n",
       "      <th>3</th>\n",
       "      <td>4.6</td>\n",
       "      <td>3.1</td>\n",
       "      <td>1.5</td>\n",
       "      <td>0.2</td>\n",
       "      <td>setosa</td>\n",
       "    </tr>\n",
       "    <tr>\n",
       "      <th>4</th>\n",
       "      <td>5.0</td>\n",
       "      <td>3.6</td>\n",
       "      <td>1.4</td>\n",
       "      <td>0.2</td>\n",
       "      <td>setosa</td>\n",
       "    </tr>\n",
       "  </tbody>\n",
       "</table>\n",
       "</div>"
      ],
      "text/plain": [
       "   sepalLengthcm  sepalWidthcm  petalLengthcm  petalWidthcm species\n",
       "0            5.1           3.5            1.4           0.2  setosa\n",
       "1            4.9           3.0            1.4           0.2  setosa\n",
       "2            4.7           3.2            1.3           0.2  setosa\n",
       "3            4.6           3.1            1.5           0.2  setosa\n",
       "4            5.0           3.6            1.4           0.2  setosa"
      ]
     },
     "execution_count": 4,
     "metadata": {},
     "output_type": "execute_result"
    }
   ],
   "source": [
    "import pandas as pd\n",
    "import numpy as np\n",
    "from sklearn.datasets import load_iris\n",
    "iris=load_iris()\n",
    "x=iris.data\n",
    "y=iris.target\n",
    "iris_d=np.column_stack((x, y))\n",
    "irisData=pd.DataFrame(iris_d,columns=['sepalLengthcm','sepalWidthcm','petalLengthcm','petalWidthcm','species'])\n",
    "irisData.loc[irisData['species']==0.0,'species']='setosa'\n",
    "irisData.loc[irisData['species']==1.0,'species']='versicolor'\n",
    "irisData.loc[irisData['species']==2.0,'species']='virginica'\n",
    "irisData.head()"
   ]
  },
  {
   "cell_type": "markdown",
   "metadata": {},
   "source": [
    "or you can read data from your disk and import, for example, I read data from my Github account."
   ]
  },
  {
   "cell_type": "code",
   "execution_count": null,
   "metadata": {},
   "outputs": [],
   "source": [
    "irisData =pd.read_csv('https://github.com/Muhd-Shahid/Write-Raw-File-into-Database-Server/raw/main/iris.csv')"
   ]
  },
  {
   "cell_type": "markdown",
   "metadata": {},
   "source": [
    "Where, data is the comma delimiter. Each line of the CSV file is terminated by a newline character."
   ]
  },
  {
   "cell_type": "markdown",
   "metadata": {},
   "source": [
    "### Step 2: Connect to the MySQL and create a database"
   ]
  },
  {
   "cell_type": "markdown",
   "metadata": {},
   "source": [
    "Now let's create connection object to connect to MySQL server.\n",
    "The connect() constructor creates a connection to the MySQL server and returns a MySQLConnection object."
   ]
  },
  {
   "cell_type": "code",
   "execution_count": null,
   "metadata": {},
   "outputs": [],
   "source": [
    "import mysql.connector\n",
    "from mysql.connector import Error\n",
    "try:\n",
    "    conn = mysql.connector.connect(host='localhost',\n",
    "                                         user='root',\n",
    "                                         password='sql@123')\n",
    "    if connection.is_connected():\n",
    "        cursor = conn.cursor()\n",
    "        cursor.execute(\"CREATE DATABASE irisDB\")\n",
    "        print(\"irisDB database is created\")\n",
    "        \n",
    "except Error as e:\n",
    "    print(\"Error while connecting to MySQL\", e)"
   ]
  },
  {
   "cell_type": "markdown",
   "metadata": {},
   "source": [
    "Check, did it work?"
   ]
  },
  {
   "cell_type": "markdown",
   "metadata": {},
   "source": [
    "### Step 2: Create a table"
   ]
  },
  {
   "cell_type": "markdown",
   "metadata": {},
   "source": [
    "First, we will insure that column and datatype parameters in the SQL table that we will create must match the number of columns and data types of the CSV file."
   ]
  },
  {
   "cell_type": "code",
   "execution_count": 5,
   "metadata": {},
   "outputs": [
    {
     "data": {
      "text/plain": [
       "sepalLengthcm    float64\n",
       "sepalWidthcm     float64\n",
       "petalLengthcm    float64\n",
       "petalWidthcm     float64\n",
       "species           object\n",
       "dtype: object"
      ]
     },
     "execution_count": 5,
     "metadata": {},
     "output_type": "execute_result"
    }
   ],
   "source": [
    "irisData.dtypes"
   ]
  },
  {
   "cell_type": "markdown",
   "metadata": {},
   "source": [
    "We will create iris table under irisDB database in MySQL server."
   ]
  },
  {
   "cell_type": "code",
   "execution_count": null,
   "metadata": {},
   "outputs": [],
   "source": [
    "import mysql.connector\n",
    "from mysql.connector import Error\n",
    "try:\n",
    "    conn = mysql.connector.connect(host='localhost', user='root', password='sql@123', database='irisDB')\n",
    "    if conn.is_connected():\n",
    "        cursor = conn.cursor()\n",
    "        #print(\"train table\")\n",
    "        cursor.execute(\"CREATE TABLE iris(sepal_length DECIMAL(2,1) NOT NULL, sepal_width DECIMAL(2,1) NOT NULL, petal_length DECIMAL(2,1) NOT NULL, petal_width DECIMAL(2,1),species CHAR(11)NOT NULL)\")\n",
    "        print(\"iris table is created\")\n",
    "        \n",
    "except Error as e:\n",
    "    print(\"Error while connecting to MySQL\", e)"
   ]
  },
  {
   "cell_type": "markdown",
   "metadata": {},
   "source": [
    "### Step 3: Load the data: Import the CSV data into the MySQL table"
   ]
  },
  {
   "cell_type": "markdown",
   "metadata": {},
   "source": [
    "### What's happening here?\n",
    "#### The LOCAL keyword affects where the file is expected to be found. The file is read by the client program on the client host and sent to the server. If LOCAL is not specified, the file must be located on the server host and is read directly by the server.\" Reference manual\n",
    "#### Since the comma is the delimiter, we use the FIELDS TERMINATED BY ','\n",
    "#### Each line of the CSV file is terminated by a newline character, thus we use LINES TERMINATED BY '\\n'\n",
    "#### We already have the header in the MySQL table so we use IGNORE 1 ROWS"
   ]
  },
  {
   "cell_type": "markdown",
   "metadata": {},
   "source": [
    "### Issues"
   ]
  },
  {
   "cell_type": "markdown",
   "metadata": {},
   "source": [
    "You may face the following issues during inserting or loading csv file data directly into the table without creating any insert statement.\n",
    "#### Problem: \n",
    "mysql.connector.errors.ProgrammingError: 1148 (42000): The used command is not allowed with this MySQL version\n",
    "#### Solution: \n",
    "Check what value is there in your database using MySQL client by executing the command SHOW VARIABLES LIKE 'local_infile';.\n",
    "if value for local_infile shows as OFF then you can set using the command set global local_infile = ON;.\n",
    "#### Problem: \n",
    "The MySQL server is running with the –secure-file-priv option so it cannot execute this statement\n",
    "#### Solution: \n",
    "Check what value if there for this variable using the command SHOW VARIABLES LIKE \"secure_file_priv\";.\n",
    "If it shows NULL then you can disable security for file in my.ini file.\n",
    "So open my.ini file and add the following line. my.ini file generally exists under your root folder of your MySQL installation path."
   ]
  },
  {
   "cell_type": "code",
   "execution_count": null,
   "metadata": {},
   "outputs": [],
   "source": []
  }
 ],
 "metadata": {
  "kernelspec": {
   "display_name": "Python 3",
   "language": "python",
   "name": "python3"
  },
  "language_info": {
   "codemirror_mode": {
    "name": "ipython",
    "version": 3
   },
   "file_extension": ".py",
   "mimetype": "text/x-python",
   "name": "python",
   "nbconvert_exporter": "python",
   "pygments_lexer": "ipython3",
   "version": "3.7.1"
  }
 },
 "nbformat": 4,
 "nbformat_minor": 2
}
